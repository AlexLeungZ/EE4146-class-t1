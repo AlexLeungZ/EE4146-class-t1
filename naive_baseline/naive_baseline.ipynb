{
 "cells": [
  {
   "cell_type": "code",
   "execution_count": 1,
   "metadata": {},
   "outputs": [],
   "source": [
    "import os\n",
    "from PIL import Image\n",
    "import matplotlib.pyplot as plt\n",
    "import numpy as np\n",
    "from sklearn import *\n",
    "import pandas as pd\n",
    "import csv"
   ]
  },
  {
   "cell_type": "code",
   "execution_count": 2,
   "metadata": {},
   "outputs": [
    {
     "name": "stdout",
     "output_type": "stream",
     "text": [
      "{'buildings': 0, 'forest': 1, 'glacier': 2, 'mountain': 3, 'sea': 4, 'street': 5}\n",
      "{0: 'buildings', 1: 'forest', 2: 'glacier', 3: 'mountain', 4: 'sea', 5: 'street'}\n"
     ]
    }
   ],
   "source": [
    "# load training data labels\n",
    "train_labels_info = pd.read_csv('train_labels.csv', header=0)  \n",
    "categories = list(np.unique(train_labels_info['label']))\n",
    "\n",
    "# endocing categories to numbers\n",
    "num2cat = dict(zip(range(len(categories)), categories))\n",
    "cat2num =dict(zip(categories,range(len(categories))))\n",
    "print(cat2num)\n",
    "print(num2cat)"
   ]
  },
  {
   "cell_type": "code",
   "execution_count": 3,
   "metadata": {},
   "outputs": [],
   "source": [
    "def write_csv_kaggle_sub(fname, ID, Y):\n",
    "    # fname = file name\n",
    "    # Y is a list/array with class entries\n",
    "    # ID is the image ID\n",
    "    tmp = [['ID', 'label']]\n",
    "    # add ID numbers for each Y\n",
    "    for (i,y) in enumerate(Y):\n",
    "        tmp2 = [ID[i], num2cat[y]]\n",
    "        tmp.append(tmp2)\n",
    "    # write CSV file\n",
    "    with open(fname, 'w',newline='') as f:\n",
    "        writer = csv.writer(f)\n",
    "        writer.writerows(tmp)"
   ]
  },
  {
   "cell_type": "code",
   "execution_count": 4,
   "metadata": {},
   "outputs": [
    {
     "name": "stdout",
     "output_type": "stream",
     "text": [
      "10500\n",
      "2200\n"
     ]
    }
   ],
   "source": [
    "train_feat_root = './res50_features/train_feat/'\n",
    "test_feat_root = './res50_features/test_feat/'\n",
    "\n",
    "train_feats = []\n",
    "test_feats = []\n",
    "\n",
    "train_labels = []\n",
    "test_img_id = []\n",
    "\n",
    "# load train features\n",
    "for feat in os.listdir(train_feat_root):\n",
    "    img_id = int(feat.split('_')[0])\n",
    "    train_feats.append(np.load(os.path.join(train_feat_root, feat)))\n",
    "\n",
    "    label = train_labels_info['label'][img_id]\n",
    "    train_labels.append(cat2num[label])\n",
    "\n",
    "# load test features and corresponding ID\n",
    "for feat in os.listdir(test_feat_root):\n",
    "    img_id = int(feat.split('_')[0])\n",
    "    test_img_id.append(img_id)\n",
    "    test_feats.append(np.load(os.path.join(test_feat_root, feat)))\n",
    "\n",
    "print(len(train_feats))\n",
    "print(len(test_feats))"
   ]
  },
  {
   "cell_type": "code",
   "execution_count": 5,
   "metadata": {},
   "outputs": [
    {
     "name": "stdout",
     "output_type": "stream",
     "text": [
      "7875\n",
      "2625\n"
     ]
    }
   ],
   "source": [
    "# Splitting training set and validation set for offline evaluation\n",
    "trainX, valX, trainY, valY = model_selection.train_test_split(train_feats, train_labels, train_size=0.75, test_size=0.25, random_state=123)\n",
    "print(len(trainX))\n",
    "print(len(valX))"
   ]
  },
  {
   "cell_type": "markdown",
   "metadata": {},
   "source": [
    "# Investigation on classifiers"
   ]
  },
  {
   "cell_type": "code",
   "execution_count": 6,
   "metadata": {},
   "outputs": [
    {
     "name": "stdout",
     "output_type": "stream",
     "text": [
      "linear svm validation accuracy = 0.9135238095238095\n"
     ]
    }
   ],
   "source": [
    "# paramgrid = {'C': logspace(-1,5,20), 'gamma': logspace(-4,3,20) }\n",
    "# svmclf = model_selection.GridSearchCV(svm.SVC(kernel='linear'), paramgrid, cv=5, n_jobs=-1, verbose=True)\n",
    "svmclf = svm.SVC(kernel='linear')\n",
    "svmclf.fit(trainX, trainY)\n",
    "predY_svm = svmclf.predict(valX)\n",
    "acc_svm = metrics.accuracy_score(valY, predY_svm)\n",
    "print(\"linear svm validation accuracy =\", acc_svm)"
   ]
  },
  {
   "cell_type": "code",
   "execution_count": 7,
   "metadata": {},
   "outputs": [
    {
     "name": "stdout",
     "output_type": "stream",
     "text": [
      "rbf svm validation accuracy = 0.932952380952381\n"
     ]
    }
   ],
   "source": [
    "svmclf = svm.SVC(kernel='rbf')\n",
    "svmclf.fit(trainX, trainY)\n",
    "predY_svm = svmclf.predict(valX)\n",
    "acc_svm = metrics.accuracy_score(valY, predY_svm)\n",
    "print(\"rbf svm validation accuracy =\", acc_svm)"
   ]
  },
  {
   "cell_type": "code",
   "execution_count": 8,
   "metadata": {},
   "outputs": [],
   "source": [
    "# Generate submission files\n",
    "predY = svmclf.predict(test_feats)\n",
    "write_csv_kaggle_sub('naive_baseline.csv',  test_img_id, predY)"
   ]
  },
  {
   "cell_type": "markdown",
   "metadata": {},
   "source": [
    "# Dimensionality Reduction"
   ]
  },
  {
   "cell_type": "code",
   "execution_count": 9,
   "metadata": {},
   "outputs": [
    {
     "name": "stdout",
     "output_type": "stream",
     "text": [
      "PCA svm validation accuracy = 0.9085714285714286\n"
     ]
    }
   ],
   "source": [
    "pca = decomposition.PCA(n_components=1024)\n",
    "trainW = pca.fit_transform(trainX)  # fit the training set\n",
    "valW  = pca.transform(valX)  # use the pca model to transform the test set\n",
    "svmclf  = svm.SVC(kernel='linear')\n",
    "svmclf.fit(trainW, trainY)\n",
    "predY_svm = svmclf.predict(valW)\n",
    "acc_svm = metrics.accuracy_score(valY, predY_svm)\n",
    "print(\"PCA svm validation accuracy =\", acc_svm)"
   ]
  },
  {
   "cell_type": "code",
   "execution_count": 10,
   "metadata": {},
   "outputs": [
    {
     "name": "stdout",
     "output_type": "stream",
     "text": [
      "Kernel PCA svm validation accuracy = 0.9314285714285714\n"
     ]
    }
   ],
   "source": [
    "pca = decomposition.KernelPCA(n_components=1024,kernel='rbf')\n",
    "trainW = pca.fit_transform(trainX)  # fit the training set\n",
    "valW  = pca.transform(valX)  # use the pca model to transform the test set\n",
    "svmclf  =svm.SVC(kernel='linear')\n",
    "svmclf.fit(trainW, trainY)\n",
    "predY_svm = svmclf.predict(valW)\n",
    "acc_svm = metrics.accuracy_score(valY, predY_svm)\n",
    "print(\"Kernel PCA svm validation accuracy =\", acc_svm)"
   ]
  },
  {
   "cell_type": "code",
   "execution_count": 11,
   "metadata": {},
   "outputs": [
    {
     "name": "stdout",
     "output_type": "stream",
     "text": [
      "1 : 0.6175238095238095\n",
      "2 : 0.8106666666666666\n",
      "4 : 0.864\n",
      "8 : 0.8986666666666666\n",
      "16 : 0.9100952380952381\n",
      "32 : 0.9192380952380952\n",
      "64 : 0.9215238095238095\n",
      "128 : 0.9238095238095239\n",
      "256 : 0.928\n",
      "512 : 0.9287619047619048\n",
      "1024 : 0.9314285714285714\n"
     ]
    },
    {
     "data": {
      "text/plain": [
       "Text(0, 0.5, 'accuracy')"
      ]
     },
     "execution_count": 11,
     "metadata": {},
     "output_type": "execute_result"
    },
    {
     "data": {
      "image/png": "[encoded data removed]",
      "text/plain": [
       "<Figure size 432x288 with 1 Axes>"
      ]
     },
     "metadata": {
      "needs_background": "light"
     },
     "output_type": "display_data"
    }
   ],
   "source": [
    "ns=[1,2,4,8,16,32,64,128,256,512,1024]\n",
    "\n",
    "# params = {'C': logspace(-6,3,15)}\n",
    "trainaccpca = []\n",
    "testaccpca = []\n",
    "for n in ns:\n",
    "    pca = decomposition.KernelPCA(n_components=n, kernel='rbf')\n",
    "    trainW = pca.fit_transform(trainX)  # fit the training set\n",
    "    testW  = pca.transform(valX)  # use the pca model to transform the test set\n",
    "    clf  =svm.SVC(kernel='linear')\n",
    "    clf.fit(trainW, trainY)\n",
    "    \n",
    "    # predict from the model\n",
    "    predYtrain = clf.predict(trainW)\n",
    "    predYtest  = clf.predict(testW)\n",
    "\n",
    "    # calculate accuracy\n",
    "    acc      = metrics.accuracy_score(trainY, predYtrain)\n",
    "    trainaccpca.append(acc)\n",
    "\n",
    "    # calculate accuracy\n",
    "    acc      = metrics.accuracy_score(valY, predYtest)\n",
    "    testaccpca.append(acc)\n",
    "    print(n, \":\",acc)\n",
    "\n",
    "plt.plot(ns, trainaccpca, 'bx-', label='train')\n",
    "plt.plot(ns, testaccpca, 'ro-', label='test')\n",
    "plt.title(\"kenel PCA + SVM\")\n",
    "plt.legend(loc=0)\n",
    "plt.grid(True); plt.xlabel('n components'); plt.ylabel('accuracy')   "
   ]
  }
 ],
 "metadata": {
  "interpreter": {
   "hash": "2a1694dcd259e028945710732ec0a65dcf1ed8e1a82793638f5a5001a82d902c"
  },
  "kernelspec": {
   "display_name": "Python 3.6.8 64-bit",
   "language": "python",
   "name": "python3"
  },
  "language_info": {
   "codemirror_mode": {
    "name": "ipython",
    "version": 3
   },
   "file_extension": ".py",
   "mimetype": "text/x-python",
   "name": "python",
   "nbconvert_exporter": "python",
   "pygments_lexer": "ipython3",
   "version": "3.9.6"
  },
  "orig_nbformat": 2
 },
 "nbformat": 4,
 "nbformat_minor": 2
}
